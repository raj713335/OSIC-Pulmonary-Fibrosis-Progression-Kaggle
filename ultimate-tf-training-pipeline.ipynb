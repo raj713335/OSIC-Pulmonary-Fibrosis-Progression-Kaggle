{
 "cells": [
  {
   "cell_type": "markdown",
   "execution_count": null,
   "metadata": {
    "papermill": {
     "duration": 0.008446,
     "end_time": "2020-08-23T18:01:37.150348",
     "exception": false,
     "start_time": "2020-08-23T18:01:37.141902",
     "status": "completed"
    },
    "tags": []
   },
   "source": [
    "# Overview\n",
    "\n",
    "Based on Wei Hao's awesome training pipeline [3]\n",
    "\n",
    "# Features\n",
    " \n",
    "- GPU with optional Mixed precision support\n",
    "- TPU support *IN PROGRESS*\n",
    "- Wide range of supported backend models via Keras Applications models\n",
    "- Wide range of supported optimizers in Tensorflow optimizers and Tensorflow Addons\n",
    "- Wide range of supported learning rate scheduling strategies via Tensorflow, Tensorflow experimental and Tensorflow Addons\n",
    "- RandAug augmentation support with UNetAug added as a custom aug strategy *IN PROGRESS*\n",
    "- Overall cleanup and parameterization of the pipeline\n",
    "\n",
    "\n",
    "\n",
    "Below you can train efnB7 relatively fast ~18 seconds per epoch with 600 image size which makes this notebook able to train large models for more epochs in the 9 hour limit.\n",
    "\n",
    "Don't forget to turn on the GPU or TPU :)\n"
   ]
  },
  {
   "cell_type": "code",
   "execution_count": 1,
   "metadata": {
    "_kg_hide-output": true,
    "execution": {
     "iopub.execute_input": "2020-08-23T18:01:37.171058Z",
     "iopub.status.busy": "2020-08-23T18:01:37.170147Z",
     "iopub.status.idle": "2020-08-23T18:01:47.977333Z",
     "shell.execute_reply": "2020-08-23T18:01:47.976697Z"
    },
    "papermill": {
     "duration": 10.820038,
     "end_time": "2020-08-23T18:01:47.977455",
     "exception": false,
     "start_time": "2020-08-23T18:01:37.157417",
     "status": "completed"
    },
    "tags": []
   },
   "outputs": [],
   "source": [
    "!pip install ../input/kerasapplications/keras-team-keras-applications-3b180cb -f ./ --no-index >/dev/null"
   ]
  },
  {
   "cell_type": "code",
   "execution_count": 2,
   "metadata": {
    "_cell_guid": "79c7e3d0-c299-4dcb-8224-4455121ee9b0",
    "_uuid": "d629ff2d2480ee46fbb7e2d37f6b5fab8052498a",
    "execution": {
     "iopub.execute_input": "2020-08-23T18:01:48.002421Z",
     "iopub.status.busy": "2020-08-23T18:01:48.001388Z",
     "iopub.status.idle": "2020-08-23T18:01:55.124453Z",
     "shell.execute_reply": "2020-08-23T18:01:55.125206Z"
    },
    "papermill": {
     "duration": 7.139934,
     "end_time": "2020-08-23T18:01:55.125390",
     "exception": false,
     "start_time": "2020-08-23T18:01:47.985456",
     "status": "completed"
    },
    "tags": []
   },
   "outputs": [
    {
     "name": "stderr",
     "output_type": "stream",
     "text": [
      "/opt/conda/lib/python3.7/site-packages/tensorflow_addons/utils/ensure_tf_install.py:68: UserWarning: Tensorflow Addons supports using Python ops for all Tensorflow versions above or equal to 2.2.0 and strictly below 2.3.0 (nightly versions are not supported). \n",
      " The versions of TensorFlow you are currently using is 2.3.0 and is not supported. \n",
      "Some things might work, some things might not.\n",
      "If you were to encounter a bug, do not file an issue.\n",
      "If you want to make sure you're using a tested and supported configuration, either change the TensorFlow version or the TensorFlow Addons's version. \n",
      "You can find the compatibility matrix in TensorFlow Addon's readme:\n",
      "https://github.com/tensorflow/addons\n",
      "  UserWarning,\n"
     ]
    }
   ],
   "source": [
    "import os\n",
    "import cv2\n",
    "import pydicom\n",
    "import pandas as pd\n",
    "import numpy as np \n",
    "import tensorflow as tf \n",
    "import matplotlib.pyplot as plt \n",
    "from tqdm.notebook import tqdm \n",
    "from tensorflow.keras.layers import (\n",
    "    Dense, Dropout, Activation, Flatten, Input, BatchNormalization, GlobalAveragePooling2D, Add, Conv2D, AveragePooling2D, \n",
    "    LeakyReLU, Concatenate \n",
    ")\n",
    "from tensorflow.keras import Model\n",
    "from tensorflow.keras.utils import Sequence\n",
    "import tensorflow.keras.backend as K\n",
    "import tensorflow.keras.applications as tfka\n",
    "\n",
    "from sklearn.model_selection import train_test_split, KFold\n",
    "import seaborn as sns\n",
    "from tensorflow.keras.mixed_precision import experimental as mixed_precision\n",
    "import tensorflow_addons as tfa\n",
    "from tensorflow_addons.optimizers import AdamW"
   ]
  },
  {
   "cell_type": "code",
   "execution_count": 3,
   "metadata": {
    "execution": {
     "iopub.execute_input": "2020-08-23T18:01:55.988728Z",
     "iopub.status.busy": "2020-08-23T18:01:55.987781Z",
     "iopub.status.idle": "2020-08-23T18:01:57.652451Z",
     "shell.execute_reply": "2020-08-23T18:01:57.653135Z"
    },
    "papermill": {
     "duration": 2.520154,
     "end_time": "2020-08-23T18:01:57.653320",
     "exception": false,
     "start_time": "2020-08-23T18:01:55.133166",
     "status": "completed"
    },
    "tags": []
   },
   "outputs": [
    {
     "name": "stdout",
     "output_type": "stream",
     "text": [
      "Not connected to a TPU runtime. Using CPU/GPU strategy\n"
     ]
    }
   ],
   "source": [
    "# Future TPU support\n",
    "try:\n",
    "    tpu = tf.distribute.cluster_resolver.TPUClusterResolver()  # TPU detection\n",
    "    print(\"Running on TPU \", tpu.cluster_spec().as_dict()[\"worker\"])\n",
    "    tf.config.experimental_connect_to_cluster(tpu)\n",
    "    tf.tpu.experimental.initialize_tpu_system(tpu)\n",
    "    strategy = tf.distribute.experimental.TPUStrategy(tpu)\n",
    "    GPU=False\n",
    "except ValueError:\n",
    "    print(\"Not connected to a TPU runtime. Using CPU/GPU strategy\")\n",
    "    strategy = tf.distribute.MirroredStrategy()\n",
    "    GPU=True"
   ]
  },
  {
   "cell_type": "markdown",
   "execution_count": null,
   "metadata": {
    "papermill": {
     "duration": 0.006964,
     "end_time": "2020-08-23T18:01:57.667858",
     "exception": false,
     "start_time": "2020-08-23T18:01:57.660894",
     "status": "completed"
    },
    "tags": []
   },
   "source": [
    "# Training Parameters\n",
    "\n"
   ]
  },
  {
   "cell_type": "code",
   "execution_count": 4,
   "metadata": {
    "execution": {
     "iopub.execute_input": "2020-08-23T18:01:57.699466Z",
     "iopub.status.busy": "2020-08-23T18:01:57.690818Z",
     "iopub.status.idle": "2020-08-23T18:01:57.702589Z",
     "shell.execute_reply": "2020-08-23T18:01:57.703075Z"
    },
    "papermill": {
     "duration": 0.027055,
     "end_time": "2020-08-23T18:01:57.703198",
     "exception": false,
     "start_time": "2020-08-23T18:01:57.676143",
     "status": "completed"
    },
    "tags": []
   },
   "outputs": [
    {
     "name": "stdout",
     "output_type": "stream",
     "text": [
      "Batch size = 4\n",
      "saving models to : 20200823_180157/\n"
     ]
    }
   ],
   "source": [
    "EPOCHS = 10 # number of epochs to train for in each fold\n",
    "\n",
    "BATCH_SIZE = 4 * strategy.num_replicas_in_sync # batch size of images during training\n",
    "\n",
    "print('Batch size = '+str(BATCH_SIZE))\n",
    "\n",
    "IM_SIZE = 512 #If you are training efficientnet please read https://keras.io/examples/vision/image_classification_efficientnet_fine_tuning/\n",
    "\n",
    "\n",
    "\n",
    "BASE_MODEL='EfficientNetB1' # supported models are listed here https://www.tensorflow.org/api_docs/python/tf/keras/applications\n",
    "\n",
    "# args to pass to base model e.g. for EfficientNet {drop_connect_rate=0.4} default is 0.2\n",
    "BASE_MODEL_KWARGS = dict(drop_connect_rate=0.2,input_shape=(IM_SIZE,IM_SIZE,1),include_top=False,weights=None)\n",
    "\n",
    "NFOLD = 5 # number of folds in K-fold cross-validation (CV)\n",
    "\n",
    "\n",
    "\n",
    "START_LR = 1e-2 * strategy.num_replicas_in_sync # the initial learning rate \n",
    "FIRST_DECAY_STEPS = 1e1\n",
    "\n",
    "LR_STRATEGY='CosineDecayRestarts' # check for options in the cell below\n",
    "LR_KWARGS=dict(initial_learning_rate=START_LR, first_decay_steps=FIRST_DECAY_STEPS)\n",
    "\n",
    "WD = 1e-2 #Weight decay\n",
    "OPTIMIZER='AdamW' # check for options in the cell below\n",
    "OPTIMIZER_KWARGS=dict(weight_decay=WD)\n",
    "\n",
    "SAVE_BEST = True # default is True to save best weights on validation loss\n",
    "\n",
    "MIXED_PRECISION = True\n",
    "\n",
    "\n",
    "EALRY_STOPPING_PATIENCE = 40\n",
    "\n",
    "TRAIN_STEPS = int(( 8 / BATCH_SIZE) * 32) # number of steps per epoch in training\n",
    "\n",
    "VAL_STEPS = int((8 / BATCH_SIZE  ) * 16) # number of steps per epoch in validation\n",
    "\n",
    "\n",
    "\n",
    "DATA_DIR=[\"../input/osic-pulmonary-fibrosis-progression\",\"../input/osic-pulmonary-fibrosis-progression-lungs-mask\"]\n",
    "\n",
    "\n",
    "\n",
    "import datetime\n",
    "\n",
    "def get_now_string():\n",
    "  x = str(datetime.datetime.now())\n",
    "  date=x[:10].split('-')\n",
    "  time=x[11:].split(':')\n",
    "  time[2]=time[2].split('.')[0]\n",
    "  dates=\"\".join(date)+\"_\"+\"\".join(time)\n",
    "  return dates\n",
    "\n",
    "OUTPUT_DIR=get_now_string()+\"/\"\n",
    "os.mkdir(OUTPUT_DIR)\n",
    "print(\"saving models to :\",OUTPUT_DIR)"
   ]
  },
  {
   "cell_type": "code",
   "execution_count": 5,
   "metadata": {
    "execution": {
     "iopub.execute_input": "2020-08-23T18:01:57.731271Z",
     "iopub.status.busy": "2020-08-23T18:01:57.729421Z",
     "iopub.status.idle": "2020-08-23T18:01:57.732028Z",
     "shell.execute_reply": "2020-08-23T18:01:57.732478Z"
    },
    "papermill": {
     "duration": 0.022451,
     "end_time": "2020-08-23T18:01:57.732589",
     "exception": false,
     "start_time": "2020-08-23T18:01:57.710138",
     "status": "completed"
    },
    "tags": []
   },
   "outputs": [],
   "source": [
    "# Supported optimizers\n",
    "\n",
    "optimizers_mapper={\n",
    "    \"AdamW\":tfa.optimizers,\n",
    "    \"ConditionalGradient\":tfa.optimizers,\n",
    "    \"LAMB\":tfa.optimizers,\n",
    "    \"LazyAdam\":tfa.optimizers,\n",
    "    \"NovoGrad\":tfa.optimizers,\n",
    "    \"RectifiedAdam\":tfa.optimizers,\n",
    "    \"SGDW\":tfa.optimizers,\n",
    "    \"SWA\":tfa.optimizers,\n",
    "    \"Yogi\":tfa.optimizers,\n",
    "    \"Adadelta\":tf.keras.optimizers,\n",
    "    \"Adagrad\":tf.keras.optimizers,\n",
    "    \"Adam\":tf.keras.optimizers,\n",
    "    \"Adamax\":tf.keras.optimizers,\n",
    "    \"Ftrl\":tf.keras.optimizers,\n",
    "    \"Nadam\":tf.keras.optimizers,\n",
    "    \"RMSprop\":tf.keras.optimizers,\n",
    "    \"SGD\":tf.keras.optimizers\n",
    "       }\n",
    "\n",
    "# Supported Learning rates schedules\n",
    "schedules_mapper={\n",
    "    \"CyclicalLearningRate\":tfa.optimizers,\n",
    "    \"ExponentialCyclicalLearningRate\":tfa.optimizers,\n",
    "    \"Triangular2CyclicalLearningRate\":tfa.optimizers,\n",
    "    \"TriangularCyclicalLearningRate\":tfa.optimizers,\n",
    "    \"ExponentialDecay\":tf.keras.optimizers.schedules,\n",
    "    \"InverseTimeDecay\":tf.keras.optimizers.schedules,\n",
    "    \"PiecewiseConstantDecay\":tf.keras.optimizers.schedules,\n",
    "    \"PolynomialDecay\":tf.keras.optimizers.schedules,\n",
    "    \"CosineDecay\":tf.keras.experimental,\n",
    "    \"CosineDecayRestarts\":tf.keras.experimental,\n",
    "    \"LinearCosineDecay\":tf.keras.experimental,\n",
    "    \"NoisyLinearCosineDecay\":tf.keras.experimental,\n",
    "    \n",
    "       }"
   ]
  },
  {
   "cell_type": "code",
   "execution_count": 6,
   "metadata": {
    "execution": {
     "iopub.execute_input": "2020-08-23T18:01:57.754229Z",
     "iopub.status.busy": "2020-08-23T18:01:57.753454Z",
     "iopub.status.idle": "2020-08-23T18:01:57.768444Z",
     "shell.execute_reply": "2020-08-23T18:01:57.767759Z"
    },
    "papermill": {
     "duration": 0.029374,
     "end_time": "2020-08-23T18:01:57.768563",
     "exception": false,
     "start_time": "2020-08-23T18:01:57.739189",
     "status": "completed"
    },
    "tags": []
   },
   "outputs": [],
   "source": [
    "train = pd.read_csv('../input/osic-pulmonary-fibrosis-progression/train.csv') "
   ]
  },
  {
   "cell_type": "code",
   "execution_count": 7,
   "metadata": {
    "execution": {
     "iopub.execute_input": "2020-08-23T18:01:57.800672Z",
     "iopub.status.busy": "2020-08-23T18:01:57.799533Z",
     "iopub.status.idle": "2020-08-23T18:01:57.810776Z",
     "shell.execute_reply": "2020-08-23T18:01:57.811337Z"
    },
    "papermill": {
     "duration": 0.03497,
     "end_time": "2020-08-23T18:01:57.811499",
     "exception": false,
     "start_time": "2020-08-23T18:01:57.776529",
     "status": "completed"
    },
    "tags": []
   },
   "outputs": [
    {
     "data": {
      "text/html": [
       "<div>\n",
       "<style scoped>\n",
       "    .dataframe tbody tr th:only-of-type {\n",
       "        vertical-align: middle;\n",
       "    }\n",
       "\n",
       "    .dataframe tbody tr th {\n",
       "        vertical-align: top;\n",
       "    }\n",
       "\n",
       "    .dataframe thead th {\n",
       "        text-align: right;\n",
       "    }\n",
       "</style>\n",
       "<table border=\"1\" class=\"dataframe\">\n",
       "  <thead>\n",
       "    <tr style=\"text-align: right;\">\n",
       "      <th></th>\n",
       "      <th>Patient</th>\n",
       "      <th>Weeks</th>\n",
       "      <th>FVC</th>\n",
       "      <th>Percent</th>\n",
       "      <th>Age</th>\n",
       "      <th>Sex</th>\n",
       "      <th>SmokingStatus</th>\n",
       "    </tr>\n",
       "  </thead>\n",
       "  <tbody>\n",
       "    <tr>\n",
       "      <th>0</th>\n",
       "      <td>ID00007637202177411956430</td>\n",
       "      <td>-4</td>\n",
       "      <td>2315</td>\n",
       "      <td>58.253649</td>\n",
       "      <td>79</td>\n",
       "      <td>Male</td>\n",
       "      <td>Ex-smoker</td>\n",
       "    </tr>\n",
       "    <tr>\n",
       "      <th>1</th>\n",
       "      <td>ID00007637202177411956430</td>\n",
       "      <td>5</td>\n",
       "      <td>2214</td>\n",
       "      <td>55.712129</td>\n",
       "      <td>79</td>\n",
       "      <td>Male</td>\n",
       "      <td>Ex-smoker</td>\n",
       "    </tr>\n",
       "    <tr>\n",
       "      <th>2</th>\n",
       "      <td>ID00007637202177411956430</td>\n",
       "      <td>7</td>\n",
       "      <td>2061</td>\n",
       "      <td>51.862104</td>\n",
       "      <td>79</td>\n",
       "      <td>Male</td>\n",
       "      <td>Ex-smoker</td>\n",
       "    </tr>\n",
       "    <tr>\n",
       "      <th>3</th>\n",
       "      <td>ID00007637202177411956430</td>\n",
       "      <td>9</td>\n",
       "      <td>2144</td>\n",
       "      <td>53.950679</td>\n",
       "      <td>79</td>\n",
       "      <td>Male</td>\n",
       "      <td>Ex-smoker</td>\n",
       "    </tr>\n",
       "    <tr>\n",
       "      <th>4</th>\n",
       "      <td>ID00007637202177411956430</td>\n",
       "      <td>11</td>\n",
       "      <td>2069</td>\n",
       "      <td>52.063412</td>\n",
       "      <td>79</td>\n",
       "      <td>Male</td>\n",
       "      <td>Ex-smoker</td>\n",
       "    </tr>\n",
       "  </tbody>\n",
       "</table>\n",
       "</div>"
      ],
      "text/plain": [
       "                     Patient  Weeks   FVC    Percent  Age   Sex SmokingStatus\n",
       "0  ID00007637202177411956430     -4  2315  58.253649   79  Male     Ex-smoker\n",
       "1  ID00007637202177411956430      5  2214  55.712129   79  Male     Ex-smoker\n",
       "2  ID00007637202177411956430      7  2061  51.862104   79  Male     Ex-smoker\n",
       "3  ID00007637202177411956430      9  2144  53.950679   79  Male     Ex-smoker\n",
       "4  ID00007637202177411956430     11  2069  52.063412   79  Male     Ex-smoker"
      ]
     },
     "execution_count": 7,
     "metadata": {},
     "output_type": "execute_result"
    }
   ],
   "source": [
    "train.head()"
   ]
  },
  {
   "cell_type": "code",
   "execution_count": 8,
   "metadata": {
    "execution": {
     "iopub.execute_input": "2020-08-23T18:01:57.834853Z",
     "iopub.status.busy": "2020-08-23T18:01:57.834010Z",
     "iopub.status.idle": "2020-08-23T18:01:57.837634Z",
     "shell.execute_reply": "2020-08-23T18:01:57.838115Z"
    },
    "papermill": {
     "duration": 0.019091,
     "end_time": "2020-08-23T18:01:57.838256",
     "exception": false,
     "start_time": "2020-08-23T18:01:57.819165",
     "status": "completed"
    },
    "tags": []
   },
   "outputs": [
    {
     "data": {
      "text/plain": [
       "array(['Ex-smoker', 'Never smoked', 'Currently smokes'], dtype=object)"
      ]
     },
     "execution_count": 8,
     "metadata": {},
     "output_type": "execute_result"
    }
   ],
   "source": [
    "train.SmokingStatus.unique()"
   ]
  },
  {
   "cell_type": "code",
   "execution_count": 9,
   "metadata": {
    "execution": {
     "iopub.execute_input": "2020-08-23T18:01:57.862461Z",
     "iopub.status.busy": "2020-08-23T18:01:57.861613Z",
     "iopub.status.idle": "2020-08-23T18:01:57.864339Z",
     "shell.execute_reply": "2020-08-23T18:01:57.864814Z"
    },
    "papermill": {
     "duration": 0.019507,
     "end_time": "2020-08-23T18:01:57.864986",
     "exception": false,
     "start_time": "2020-08-23T18:01:57.845479",
     "status": "completed"
    },
    "tags": []
   },
   "outputs": [],
   "source": [
    "def get_tab(df):\n",
    "    vector = [(df.Age.values[0] - 30) / 30] \n",
    "    \n",
    "    if df.Sex.values[0] == 'male':\n",
    "       vector.append(0)\n",
    "    else:\n",
    "       vector.append(1)\n",
    "    \n",
    "    if df.SmokingStatus.values[0] == 'Never smoked':\n",
    "        vector.extend([0,0])\n",
    "    elif df.SmokingStatus.values[0] == 'Ex-smoker':\n",
    "        vector.extend([1,1])\n",
    "    elif df.SmokingStatus.values[0] == 'Currently smokes':\n",
    "        vector.extend([0,1])\n",
    "    else:\n",
    "        vector.extend([1,0])\n",
    "    return np.array(vector) "
   ]
  },
  {
   "cell_type": "code",
   "execution_count": 10,
   "metadata": {
    "execution": {
     "iopub.execute_input": "2020-08-23T18:01:57.889155Z",
     "iopub.status.busy": "2020-08-23T18:01:57.888245Z",
     "iopub.status.idle": "2020-08-23T18:01:58.257873Z",
     "shell.execute_reply": "2020-08-23T18:01:58.258758Z"
    },
    "papermill": {
     "duration": 0.386271,
     "end_time": "2020-08-23T18:01:58.258987",
     "exception": false,
     "start_time": "2020-08-23T18:01:57.872716",
     "status": "completed"
    },
    "tags": []
   },
   "outputs": [
    {
     "data": {
      "application/vnd.jupyter.widget-view+json": {
       "model_id": "f99f88f5a46e4b15af61a00761db9795",
       "version_major": 2,
       "version_minor": 0
      },
      "text/plain": [
       "HBox(children=(FloatProgress(value=1.0, bar_style='info', max=1.0), HTML(value='')))"
      ]
     },
     "metadata": {},
     "output_type": "display_data"
    },
    {
     "name": "stderr",
     "output_type": "stream",
     "text": [
      "/opt/conda/lib/python3.7/site-packages/ipykernel_launcher.py:9: FutureWarning: `rcond` parameter will change to the default of machine precision times ``max(M, N)`` where M and N are the input matrix dimensions.\n",
      "To use the future default and silence this warning we advise to pass `rcond=None`, to keep using the old, explicitly pass `rcond=-1`.\n",
      "  if __name__ == '__main__':\n"
     ]
    },
    {
     "name": "stdout",
     "output_type": "stream",
     "text": [
      "\n"
     ]
    }
   ],
   "source": [
    "A = {} \n",
    "TAB = {} \n",
    "P = [] \n",
    "for i, p in tqdm(enumerate(train.Patient.unique())):\n",
    "    sub = train.loc[train.Patient == p, :] \n",
    "    fvc = sub.FVC.values\n",
    "    weeks = sub.Weeks.values\n",
    "    c = np.vstack([weeks, np.ones(len(weeks))]).T\n",
    "    a, b = np.linalg.lstsq(c, fvc)[0]\n",
    "    \n",
    "    A[p] = a\n",
    "    TAB[p] = get_tab(sub)\n",
    "    P.append(p)"
   ]
  },
  {
   "cell_type": "code",
   "execution_count": 11,
   "metadata": {
    "execution": {
     "iopub.execute_input": "2020-08-23T18:01:58.285291Z",
     "iopub.status.busy": "2020-08-23T18:01:58.284465Z",
     "iopub.status.idle": "2020-08-23T18:01:58.289261Z",
     "shell.execute_reply": "2020-08-23T18:01:58.288655Z"
    },
    "papermill": {
     "duration": 0.02041,
     "end_time": "2020-08-23T18:01:58.289380",
     "exception": false,
     "start_time": "2020-08-23T18:01:58.268970",
     "status": "completed"
    },
    "tags": []
   },
   "outputs": [],
   "source": [
    "def get_img(path):\n",
    "    d = pydicom.dcmread(path)\n",
    "    return cv2.resize((d.pixel_array - d.RescaleIntercept) / (d.RescaleSlope * 1000), (IM_SIZE, IM_SIZE))"
   ]
  },
  {
   "cell_type": "code",
   "execution_count": 12,
   "metadata": {
    "execution": {
     "iopub.execute_input": "2020-08-23T18:01:58.334414Z",
     "iopub.status.busy": "2020-08-23T18:01:58.313143Z",
     "iopub.status.idle": "2020-08-23T18:04:10.052794Z",
     "shell.execute_reply": "2020-08-23T18:04:10.052026Z"
    },
    "papermill": {
     "duration": 131.755045,
     "end_time": "2020-08-23T18:04:10.052945",
     "exception": false,
     "start_time": "2020-08-23T18:01:58.297900",
     "status": "completed"
    },
    "tags": []
   },
   "outputs": [
    {
     "data": {
      "application/vnd.jupyter.widget-view+json": {
       "model_id": "103929b3cf6c4f7a98f675c6fb2258f1",
       "version_major": 2,
       "version_minor": 0
      },
      "text/plain": [
       "HBox(children=(FloatProgress(value=0.0, max=176.0), HTML(value='')))"
      ]
     },
     "metadata": {},
     "output_type": "display_data"
    },
    {
     "name": "stdout",
     "output_type": "stream",
     "text": [
      "\n"
     ]
    }
   ],
   "source": [
    "x, y = [], []\n",
    "for p in tqdm(train.Patient.unique()):\n",
    "    try:\n",
    "        ldir = os.listdir(f'../input/osic-pulmonary-fibrosis-progression-lungs-mask/mask_noise/mask_noise/{p}/')\n",
    "        numb = [float(i[:-4]) for i in ldir]\n",
    "        for i in ldir:\n",
    "            x.append(cv2.imread(f'../input/osic-pulmonary-fibrosis-progression-lungs-mask/mask_noise/mask_noise/{p}/{i}', 0).mean())\n",
    "            y.append(float(i[:-4]) / max(numb))\n",
    "    except:\n",
    "        pass"
   ]
  },
  {
   "cell_type": "code",
   "execution_count": 13,
   "metadata": {
    "execution": {
     "iopub.execute_input": "2020-08-23T18:04:10.086057Z",
     "iopub.status.busy": "2020-08-23T18:04:10.083039Z",
     "iopub.status.idle": "2020-08-23T18:04:10.088853Z",
     "shell.execute_reply": "2020-08-23T18:04:10.088356Z"
    },
    "papermill": {
     "duration": 0.027539,
     "end_time": "2020-08-23T18:04:10.088960",
     "exception": false,
     "start_time": "2020-08-23T18:04:10.061421",
     "status": "completed"
    },
    "tags": []
   },
   "outputs": [],
   "source": [
    "class IGenerator(Sequence):\n",
    "    BAD_ID = ['ID00011637202177653955184', 'ID00052637202186188008618']\n",
    "    def __init__(self, keys, a, tab, batch_size=BATCH_SIZE):\n",
    "        self.keys = [k for k in keys if k not in self.BAD_ID]\n",
    "        self.a = a\n",
    "        self.tab = tab\n",
    "        self.batch_size = batch_size\n",
    "        \n",
    "        self.train_data = {}\n",
    "        for p in train.Patient.values:\n",
    "            self.train_data[p] = os.listdir(f'../input/osic-pulmonary-fibrosis-progression/train/{p}/')\n",
    "    \n",
    "    def __len__(self):\n",
    "        return 1000\n",
    "    \n",
    "    def __getitem__(self, idx):\n",
    "        x = []\n",
    "        a, tab = [], [] \n",
    "        keys = np.random.choice(self.keys, size = self.batch_size)\n",
    "        for k in keys:\n",
    "            try:\n",
    "                i = np.random.choice(self.train_data[k], size=1)[0]\n",
    "                img = get_img(f'../input/osic-pulmonary-fibrosis-progression/train/{k}/{i}')\n",
    "                x.append(img)\n",
    "                a.append(self.a[k])\n",
    "                tab.append(self.tab[k])\n",
    "            except:\n",
    "                print(k, i)\n",
    "       \n",
    "        x,a,tab = np.array(x), np.array(a), np.array(tab)\n",
    "        x = np.expand_dims(x, axis=-1)\n",
    "        return [x, tab] , a"
   ]
  },
  {
   "cell_type": "code",
   "execution_count": 14,
   "metadata": {
    "execution": {
     "iopub.execute_input": "2020-08-23T18:04:10.113113Z",
     "iopub.status.busy": "2020-08-23T18:04:10.112308Z",
     "iopub.status.idle": "2020-08-23T18:04:10.116056Z",
     "shell.execute_reply": "2020-08-23T18:04:10.115484Z"
    },
    "papermill": {
     "duration": 0.019397,
     "end_time": "2020-08-23T18:04:10.116154",
     "exception": false,
     "start_time": "2020-08-23T18:04:10.096757",
     "status": "completed"
    },
    "tags": []
   },
   "outputs": [],
   "source": [
    "def build_model(base_model=BASE_MODEL,**kwargs):\n",
    "\n",
    "    inp = Input(shape=kwargs['input_shape'])\n",
    "    del kwargs['input_shape']\n",
    "    base =  getattr(tfka, base_model)(**kwargs) \n",
    "    x = base(inp)\n",
    "    x = GlobalAveragePooling2D()(x)\n",
    "    inp2 = Input(shape=(4,))\n",
    "    x2 = tf.keras.layers.GaussianNoise(0.2)(inp2)\n",
    "    x = Concatenate()([x, x2]) \n",
    "    x = Dropout(0.5)(x)\n",
    "    \n",
    "    # Explicit f32 because of mixed precision \n",
    "    x = Dense(1,dtype='float32')(x)\n",
    "    \n",
    "    model = Model([inp, inp2] , x)\n",
    "    return model"
   ]
  },
  {
   "cell_type": "markdown",
   "execution_count": null,
   "metadata": {
    "papermill": {
     "duration": 0.007784,
     "end_time": "2020-08-23T18:04:10.132209",
     "exception": false,
     "start_time": "2020-08-23T18:04:10.124425",
     "status": "completed"
    },
    "tags": []
   },
   "source": [
    "# Training"
   ]
  },
  {
   "cell_type": "code",
   "execution_count": 15,
   "metadata": {
    "execution": {
     "iopub.execute_input": "2020-08-23T18:04:10.167346Z",
     "iopub.status.busy": "2020-08-23T18:04:10.166383Z",
     "iopub.status.idle": "2020-08-23T18:23:13.657141Z",
     "shell.execute_reply": "2020-08-23T18:23:13.656221Z"
    },
    "papermill": {
     "duration": 1143.517269,
     "end_time": "2020-08-23T18:23:13.657281",
     "exception": false,
     "start_time": "2020-08-23T18:04:10.140012",
     "status": "completed"
    },
    "tags": []
   },
   "outputs": [
    {
     "name": "stderr",
     "output_type": "stream",
     "text": [
      "/opt/conda/lib/python3.7/site-packages/sklearn/model_selection/_split.py:297: FutureWarning: Setting a random_state has no effect since shuffle is False. This will raise an error in 0.24. You should leave random_state to its default (None), or set shuffle=True.\n",
      "  FutureWarning\n"
     ]
    },
    {
     "name": "stdout",
     "output_type": "stream",
     "text": [
      "#####################\n",
      "####### Fold 0 ######\n",
      "#####################\n",
      "Training...\n",
      "Epoch 1/10\n",
      "64/64 [==============================] - ETA: 0s - loss: 4.7019\n",
      "Epoch 00001: val_loss improved from inf to 6.32562, saving model to 20200823_180157/fold-0.h5\n",
      "64/64 [==============================] - 20s 317ms/step - loss: 4.7019 - val_loss: 6.3256\n",
      "Epoch 2/10\n",
      "64/64 [==============================] - ETA: 0s - loss: 4.1625\n",
      "Epoch 00002: val_loss improved from 6.32562 to 5.68215, saving model to 20200823_180157/fold-0.h5\n",
      "64/64 [==============================] - 17s 261ms/step - loss: 4.1625 - val_loss: 5.6821\n",
      "Epoch 3/10\n",
      "64/64 [==============================] - ETA: 0s - loss: 4.2353\n",
      "Epoch 00003: val_loss improved from 5.68215 to 5.34889, saving model to 20200823_180157/fold-0.h5\n",
      "64/64 [==============================] - 17s 269ms/step - loss: 4.2353 - val_loss: 5.3489\n",
      "Epoch 4/10\n",
      "64/64 [==============================] - ETA: 0s - loss: 3.6189\n",
      "Epoch 00004: val_loss improved from 5.34889 to 5.16590, saving model to 20200823_180157/fold-0.h5\n",
      "64/64 [==============================] - 16s 257ms/step - loss: 3.6189 - val_loss: 5.1659\n",
      "Epoch 5/10\n",
      "64/64 [==============================] - ETA: 0s - loss: 4.6076\n",
      "Epoch 00005: val_loss did not improve from 5.16590\n",
      "64/64 [==============================] - 15s 236ms/step - loss: 4.6076 - val_loss: 5.7947\n",
      "Epoch 6/10\n",
      "64/64 [==============================] - ETA: 0s - loss: 4.3960\n",
      "Epoch 00006: val_loss improved from 5.16590 to 4.75230, saving model to 20200823_180157/fold-0.h5\n",
      "64/64 [==============================] - 17s 263ms/step - loss: 4.3960 - val_loss: 4.7523\n",
      "Epoch 7/10\n",
      "64/64 [==============================] - ETA: 0s - loss: 4.1822\n",
      "Epoch 00007: val_loss did not improve from 4.75230\n",
      "64/64 [==============================] - 15s 238ms/step - loss: 4.1822 - val_loss: 6.0305\n",
      "Epoch 8/10\n",
      "64/64 [==============================] - ETA: 0s - loss: 5.0125\n",
      "Epoch 00008: val_loss did not improve from 4.75230\n",
      "64/64 [==============================] - 15s 230ms/step - loss: 5.0125 - val_loss: 6.4439\n",
      "Epoch 9/10\n",
      "64/64 [==============================] - ETA: 0s - loss: 4.5210\n",
      "Epoch 00009: val_loss did not improve from 4.75230\n",
      "64/64 [==============================] - 15s 231ms/step - loss: 4.5210 - val_loss: 6.6922\n",
      "Epoch 10/10\n",
      "64/64 [==============================] - ETA: 0s - loss: 4.2631\n",
      "Epoch 00010: val_loss did not improve from 4.75230\n",
      "64/64 [==============================] - 15s 233ms/step - loss: 4.2631 - val_loss: 6.1424\n",
      "Training done!\n",
      "#####################\n",
      "####### Fold 1 ######\n",
      "#####################\n",
      "Training...\n",
      "Epoch 1/10\n",
      "64/64 [==============================] - ETA: 0s - loss: 5.2149\n",
      "Epoch 00001: val_loss improved from inf to 4.51552, saving model to 20200823_180157/fold-1.h5\n",
      "64/64 [==============================] - 20s 310ms/step - loss: 5.2149 - val_loss: 4.5155\n",
      "Epoch 2/10\n",
      "64/64 [==============================] - ETA: 0s - loss: 4.3433\n",
      "Epoch 00002: val_loss did not improve from 4.51552\n",
      "64/64 [==============================] - 14s 223ms/step - loss: 4.3433 - val_loss: 4.9936\n",
      "Epoch 3/10\n",
      "64/64 [==============================] - ETA: 0s - loss: 4.1762\n",
      "Epoch 00003: val_loss did not improve from 4.51552\n",
      "64/64 [==============================] - 14s 222ms/step - loss: 4.1762 - val_loss: 4.5741\n",
      "Epoch 4/10\n",
      "64/64 [==============================] - ETA: 0s - loss: 4.1588\n",
      "Epoch 00004: val_loss improved from 4.51552 to 4.23838, saving model to 20200823_180157/fold-1.h5\n",
      "64/64 [==============================] - 17s 259ms/step - loss: 4.1588 - val_loss: 4.2384\n",
      "Epoch 5/10\n",
      "64/64 [==============================] - ETA: 0s - loss: 4.7098\n",
      "Epoch 00005: val_loss did not improve from 4.23838\n",
      "64/64 [==============================] - 14s 221ms/step - loss: 4.7098 - val_loss: 4.6675\n",
      "Epoch 6/10\n",
      "64/64 [==============================] - ETA: 0s - loss: 4.4887\n",
      "Epoch 00006: val_loss did not improve from 4.23838\n",
      "64/64 [==============================] - 14s 225ms/step - loss: 4.4887 - val_loss: 4.6056\n",
      "Epoch 7/10\n",
      "64/64 [==============================] - ETA: 0s - loss: 4.6452\n",
      "Epoch 00007: val_loss did not improve from 4.23838\n",
      "64/64 [==============================] - 14s 226ms/step - loss: 4.6452 - val_loss: 4.8532\n",
      "Epoch 8/10\n",
      "64/64 [==============================] - ETA: 0s - loss: 4.6876\n",
      "Epoch 00008: val_loss did not improve from 4.23838\n",
      "64/64 [==============================] - 15s 230ms/step - loss: 4.6876 - val_loss: 5.0609\n",
      "Epoch 9/10\n",
      "64/64 [==============================] - ETA: 0s - loss: 4.6216\n",
      "Epoch 00009: val_loss improved from 4.23838 to 4.11431, saving model to 20200823_180157/fold-1.h5\n",
      "64/64 [==============================] - 16s 252ms/step - loss: 4.6216 - val_loss: 4.1143\n",
      "Epoch 10/10\n",
      "64/64 [==============================] - ETA: 0s - loss: 5.1865\n",
      "Epoch 00010: val_loss did not improve from 4.11431\n",
      "64/64 [==============================] - 14s 222ms/step - loss: 5.1865 - val_loss: 4.8376\n",
      "Training done!\n",
      "#####################\n",
      "####### Fold 2 ######\n",
      "#####################\n",
      "Training...\n",
      "Epoch 1/10\n",
      "64/64 [==============================] - ETA: 0s - loss: 4.9474\n",
      "Epoch 00001: val_loss improved from inf to 3.68628, saving model to 20200823_180157/fold-2.h5\n",
      "64/64 [==============================] - 21s 324ms/step - loss: 4.9474 - val_loss: 3.6863\n",
      "Epoch 2/10\n",
      "64/64 [==============================] - ETA: 0s - loss: 4.3304\n",
      "Epoch 00002: val_loss improved from 3.68628 to 3.12664, saving model to 20200823_180157/fold-2.h5\n",
      "64/64 [==============================] - 16s 252ms/step - loss: 4.3304 - val_loss: 3.1266\n",
      "Epoch 3/10\n",
      "64/64 [==============================] - ETA: 0s - loss: 4.5083\n",
      "Epoch 00003: val_loss did not improve from 3.12664\n",
      "64/64 [==============================] - 15s 228ms/step - loss: 4.5083 - val_loss: 3.2026\n",
      "Epoch 4/10\n",
      "64/64 [==============================] - ETA: 0s - loss: 4.5092\n",
      "Epoch 00004: val_loss did not improve from 3.12664\n",
      "64/64 [==============================] - 15s 236ms/step - loss: 4.5092 - val_loss: 3.6727\n",
      "Epoch 5/10\n",
      "64/64 [==============================] - ETA: 0s - loss: 4.0801\n",
      "Epoch 00005: val_loss did not improve from 3.12664\n",
      "64/64 [==============================] - 15s 230ms/step - loss: 4.0801 - val_loss: 3.2603\n",
      "Epoch 6/10\n",
      "64/64 [==============================] - ETA: 0s - loss: 4.9633\n",
      "Epoch 00006: val_loss did not improve from 3.12664\n",
      "64/64 [==============================] - 14s 225ms/step - loss: 4.9633 - val_loss: 3.9825\n",
      "Epoch 7/10\n",
      "64/64 [==============================] - ETA: 0s - loss: 4.4588\n",
      "Epoch 00007: val_loss did not improve from 3.12664\n",
      "64/64 [==============================] - 15s 228ms/step - loss: 4.4588 - val_loss: 3.3741\n",
      "Epoch 8/10\n",
      "64/64 [==============================] - ETA: 0s - loss: 4.2921\n",
      "Epoch 00008: val_loss did not improve from 3.12664\n",
      "64/64 [==============================] - 15s 236ms/step - loss: 4.2921 - val_loss: 3.5852\n",
      "Epoch 9/10\n",
      "64/64 [==============================] - ETA: 0s - loss: 4.7028\n",
      "Epoch 00009: val_loss did not improve from 3.12664\n",
      "64/64 [==============================] - 15s 229ms/step - loss: 4.7028 - val_loss: 3.7513\n",
      "Epoch 10/10\n",
      "64/64 [==============================] - ETA: 0s - loss: 5.5412\n",
      "Epoch 00010: val_loss did not improve from 3.12664\n",
      "64/64 [==============================] - 14s 226ms/step - loss: 5.5412 - val_loss: 3.8183\n",
      "Training done!\n",
      "#####################\n",
      "####### Fold 3 ######\n",
      "#####################\n",
      "Training...\n",
      "Epoch 1/10\n",
      "64/64 [==============================] - ETA: 0s - loss: 4.9327\n",
      "Epoch 00001: val_loss improved from inf to 4.30027, saving model to 20200823_180157/fold-3.h5\n",
      "64/64 [==============================] - 20s 311ms/step - loss: 4.9327 - val_loss: 4.3003\n",
      "Epoch 2/10\n",
      "64/64 [==============================] - ETA: 0s - loss: 4.9224\n",
      "Epoch 00002: val_loss did not improve from 4.30027\n",
      "64/64 [==============================] - 14s 225ms/step - loss: 4.9224 - val_loss: 4.4751\n",
      "Epoch 3/10\n",
      "64/64 [==============================] - ETA: 0s - loss: 4.5894\n",
      "Epoch 00003: val_loss improved from 4.30027 to 4.14764, saving model to 20200823_180157/fold-3.h5\n",
      "64/64 [==============================] - 16s 252ms/step - loss: 4.5894 - val_loss: 4.1476\n",
      "Epoch 4/10\n",
      "64/64 [==============================] - ETA: 0s - loss: 4.6089\n",
      "Epoch 00004: val_loss did not improve from 4.14764\n",
      "64/64 [==============================] - 14s 220ms/step - loss: 4.6089 - val_loss: 4.8497\n",
      "Epoch 5/10\n",
      "64/64 [==============================] - ETA: 0s - loss: 4.3018\n",
      "Epoch 00005: val_loss did not improve from 4.14764\n",
      "64/64 [==============================] - 14s 226ms/step - loss: 4.3018 - val_loss: 4.5604\n",
      "Epoch 6/10\n",
      "64/64 [==============================] - ETA: 0s - loss: 4.0968\n",
      "Epoch 00006: val_loss did not improve from 4.14764\n",
      "64/64 [==============================] - 15s 231ms/step - loss: 4.0968 - val_loss: 4.8255\n",
      "Epoch 7/10\n",
      "64/64 [==============================] - ETA: 0s - loss: 4.3824\n",
      "Epoch 00007: val_loss did not improve from 4.14764\n",
      "64/64 [==============================] - 14s 223ms/step - loss: 4.3824 - val_loss: 4.8540\n",
      "Epoch 8/10\n",
      "64/64 [==============================] - ETA: 0s - loss: 4.8490\n",
      "Epoch 00008: val_loss did not improve from 4.14764\n",
      "64/64 [==============================] - 14s 218ms/step - loss: 4.8490 - val_loss: 4.6273\n",
      "Epoch 9/10\n",
      "64/64 [==============================] - ETA: 0s - loss: 4.6476\n",
      "Epoch 00009: val_loss did not improve from 4.14764\n",
      "64/64 [==============================] - 15s 227ms/step - loss: 4.6476 - val_loss: 5.2976\n",
      "Epoch 10/10\n",
      "64/64 [==============================] - ETA: 0s - loss: 4.8292\n",
      "Epoch 00010: val_loss did not improve from 4.14764\n",
      "64/64 [==============================] - 15s 227ms/step - loss: 4.8292 - val_loss: 4.4937\n",
      "Training done!\n",
      "#####################\n",
      "####### Fold 4 ######\n",
      "#####################\n",
      "Training...\n",
      "Epoch 1/10\n",
      "64/64 [==============================] - ETA: 0s - loss: 5.0782\n",
      "Epoch 00001: val_loss improved from inf to 4.63803, saving model to 20200823_180157/fold-4.h5\n",
      "64/64 [==============================] - 20s 310ms/step - loss: 5.0782 - val_loss: 4.6380\n",
      "Epoch 2/10\n",
      "64/64 [==============================] - ETA: 0s - loss: 4.5590\n",
      "Epoch 00002: val_loss did not improve from 4.63803\n",
      "64/64 [==============================] - 14s 226ms/step - loss: 4.5590 - val_loss: 5.2281\n",
      "Epoch 3/10\n",
      "64/64 [==============================] - ETA: 0s - loss: 4.9104\n",
      "Epoch 00003: val_loss improved from 4.63803 to 4.44458, saving model to 20200823_180157/fold-4.h5\n",
      "64/64 [==============================] - 17s 269ms/step - loss: 4.9104 - val_loss: 4.4446\n",
      "Epoch 4/10\n",
      "64/64 [==============================] - ETA: 0s - loss: 4.4488\n",
      "Epoch 00004: val_loss improved from 4.44458 to 3.86399, saving model to 20200823_180157/fold-4.h5\n",
      "64/64 [==============================] - 16s 254ms/step - loss: 4.4488 - val_loss: 3.8640\n",
      "Epoch 5/10\n",
      "64/64 [==============================] - ETA: 0s - loss: 4.4514\n",
      "Epoch 00005: val_loss did not improve from 3.86399\n",
      "64/64 [==============================] - 15s 234ms/step - loss: 4.4514 - val_loss: 4.1057\n",
      "Epoch 6/10\n",
      "64/64 [==============================] - ETA: 0s - loss: 4.4216\n",
      "Epoch 00006: val_loss did not improve from 3.86399\n",
      "64/64 [==============================] - 15s 236ms/step - loss: 4.4216 - val_loss: 4.2210\n",
      "Epoch 7/10\n",
      "64/64 [==============================] - ETA: 0s - loss: 4.5850\n",
      "Epoch 00007: val_loss improved from 3.86399 to 3.66322, saving model to 20200823_180157/fold-4.h5\n",
      "64/64 [==============================] - 17s 259ms/step - loss: 4.5850 - val_loss: 3.6632\n",
      "Epoch 8/10\n",
      "64/64 [==============================] - ETA: 0s - loss: 4.7101\n",
      "Epoch 00008: val_loss did not improve from 3.66322\n",
      "64/64 [==============================] - 15s 227ms/step - loss: 4.7101 - val_loss: 4.3342\n",
      "Epoch 9/10\n",
      "64/64 [==============================] - ETA: 0s - loss: 5.1192\n",
      "Epoch 00009: val_loss did not improve from 3.66322\n",
      "64/64 [==============================] - 14s 227ms/step - loss: 5.1192 - val_loss: 5.3100\n",
      "Epoch 10/10\n",
      "64/64 [==============================] - ETA: 0s - loss: 5.0834\n",
      "Epoch 00010: val_loss did not improve from 3.66322\n",
      "64/64 [==============================] - 15s 233ms/step - loss: 5.0834 - val_loss: 3.7300\n",
      "Training done!\n"
     ]
    }
   ],
   "source": [
    "\n",
    "if GPU:\n",
    "    config = tf.compat.v1.ConfigProto()\n",
    "    config.gpu_options.allow_growth = True\n",
    "    session = tf.compat.v1.Session(config=config)\n",
    "    if MIXED_PRECISION:\n",
    "      policy = mixed_precision.Policy('mixed_float16')\n",
    "      \n",
    "      mixed_precision.set_policy(policy)\n",
    "\n",
    "        \n",
    "kf = KFold(n_splits=NFOLD, random_state=42,shuffle=False)\n",
    "P = np.array(P)\n",
    "subs = []\n",
    "folds_history = []\n",
    "with strategy.scope():\n",
    "\n",
    "    for fold, (tr_idx, val_idx) in enumerate(kf.split(P)):\n",
    "        print('#####################')\n",
    "        print('####### Fold %i ######'%fold)\n",
    "        print('#####################')\n",
    "        \n",
    "        print('Training...')\n",
    "\n",
    "        er = tf.keras.callbacks.EarlyStopping(\n",
    "            monitor=\"val_loss\",\n",
    "            min_delta=1e-3,\n",
    "            patience=EALRY_STOPPING_PATIENCE,\n",
    "            verbose=1,\n",
    "            mode=\"auto\",\n",
    "            baseline=None,\n",
    "            restore_best_weights=True,\n",
    "        )\n",
    "\n",
    "        cpt = tf.keras.callbacks.ModelCheckpoint(\n",
    "            filepath=f'{OUTPUT_DIR}fold-%i.h5'%fold,\n",
    "            monitor='val_loss', \n",
    "            verbose=1, \n",
    "            save_best_only=SAVE_BEST,\n",
    "            mode='auto'\n",
    "        )\n",
    "        \n",
    "        lrs=getattr(schedules_mapper[LR_STRATEGY], LR_STRATEGY)(**LR_KWARGS)\n",
    "        lrs_call_back=tf.keras.callbacks.LearningRateScheduler(lrs)\n",
    "        callbacks =[lrs_call_back,cpt,er]\n",
    "\n",
    "        optimizer=getattr(optimizers_mapper[OPTIMIZER], OPTIMIZER)(**OPTIMIZER_KWARGS)\n",
    "        #Loss scaling for GPU\n",
    "        if MIXED_PRECISION:\n",
    "            optimizer = mixed_precision.LossScaleOptimizer(optimizer, loss_scale='dynamic')\n",
    "\n",
    "        model = build_model(**BASE_MODEL_KWARGS)\n",
    "        model.compile(optimizer=optimizer, loss=\"mae\") \n",
    "        history = model.fit(IGenerator(keys=P[tr_idx], \n",
    "                                       a = A, \n",
    "                                       tab = TAB), \n",
    "                            steps_per_epoch = TRAIN_STEPS,\n",
    "                            validation_data=IGenerator(keys=P[val_idx], \n",
    "                                       a = A, \n",
    "                                       tab = TAB),\n",
    "                            validation_steps = VAL_STEPS, \n",
    "                            callbacks = callbacks, \n",
    "                            epochs=EPOCHS)\n",
    "        folds_history.append(history.history)\n",
    "        print('Training done!')"
   ]
  },
  {
   "cell_type": "markdown",
   "execution_count": null,
   "metadata": {
    "papermill": {
     "duration": 0.241594,
     "end_time": "2020-08-23T18:23:14.107942",
     "exception": false,
     "start_time": "2020-08-23T18:23:13.866348",
     "status": "completed"
    },
    "tags": []
   },
   "source": [
    "# CV Evaluation"
   ]
  },
  {
   "cell_type": "code",
   "execution_count": 16,
   "metadata": {
    "_kg_hide-input": true,
    "execution": {
     "iopub.execute_input": "2020-08-23T18:23:14.758578Z",
     "iopub.status.busy": "2020-08-23T18:23:14.757774Z",
     "iopub.status.idle": "2020-08-23T18:23:14.762783Z",
     "shell.execute_reply": "2020-08-23T18:23:14.762304Z"
    },
    "papermill": {
     "duration": 0.348316,
     "end_time": "2020-08-23T18:23:14.762886",
     "exception": false,
     "start_time": "2020-08-23T18:23:14.414570",
     "status": "completed"
    },
    "tags": []
   },
   "outputs": [
    {
     "name": "stdout",
     "output_type": "stream",
     "text": [
      "Our mean CV MAE is: 3.960820770263672\n"
     ]
    }
   ],
   "source": [
    "if SAVE_BEST:\n",
    "    mean_val_loss = np.mean([np.min(h['val_loss']) for h in folds_history])\n",
    "else:\n",
    "    mean_val_loss = np.mean([h['val_loss'][-1] for h in folds_history])\n",
    "print('Our mean CV MAE is: ' + str(mean_val_loss))"
   ]
  },
  {
   "cell_type": "markdown",
   "execution_count": null,
   "metadata": {
    "papermill": {
     "duration": 0.210781,
     "end_time": "2020-08-23T18:23:15.180688",
     "exception": false,
     "start_time": "2020-08-23T18:23:14.969907",
     "status": "completed"
    },
    "tags": []
   },
   "source": [
    "\n",
    "# Future Work\n",
    "\n",
    "Please suggest in the comments\n",
    "\n",
    "# References\n",
    "\n",
    "[1] Michael Kazachok's Linear Decay (based on ResNet CNN)\n",
    "     Model that uses images can be found at: https://www.kaggle.com/miklgr500/linear-decay-based-on-resnet-cnn\n",
    "     \n",
    "[2] Ulrich GOUE's Osic-Multiple-Quantile-Regression-Starter\n",
    "     Model that uses tabular data can be found at: https://www.kaggle.com/ulrich07/osic-multiple-quantile-regression-starter\n",
    "\n",
    "[3] Wei Hao Khoong's K-Fold TF-EfficientNet Models (Training) https://www.kaggle.com/khoongweihao/k-fold-tf-efficientnet-models-training\n",
    "\n",
    "[4] Jeremy Howard's AMAZING Fast.ai course https://docs.fast.ai/\n",
    "\n",
    "[5] Yixing Fu's awesome guide \"Image classification via fine-tuning with EfficientNet\" https://keras.io/examples/vision/image_classification_efficientnet_fine_tuning/\n",
    "\n"
   ]
  },
  {
   "cell_type": "code",
   "execution_count": null,
   "metadata": {
    "papermill": {
     "duration": 0.207155,
     "end_time": "2020-08-23T18:23:15.598803",
     "exception": false,
     "start_time": "2020-08-23T18:23:15.391648",
     "status": "completed"
    },
    "tags": []
   },
   "outputs": [],
   "source": []
  }
 ],
 "metadata": {
  "kernelspec": {
   "display_name": "Python 3",
   "language": "python",
   "name": "python3"
  },
  "language_info": {
   "codemirror_mode": {
    "name": "ipython",
    "version": 3
   },
   "file_extension": ".py",
   "mimetype": "text/x-python",
   "name": "python",
   "nbconvert_exporter": "python",
   "pygments_lexer": "ipython3",
   "version": "3.7.6"
  },
  "papermill": {
   "duration": 1304.380582,
   "end_time": "2020-08-23T18:23:17.099966",
   "environment_variables": {},
   "exception": null,
   "input_path": "__notebook__.ipynb",
   "output_path": "__notebook__.ipynb",
   "parameters": {},
   "start_time": "2020-08-23T18:01:32.719384",
   "version": "2.1.0"
  },
  "widgets": {
   "application/vnd.jupyter.widget-state+json": {
    "state": {
     "0ed12f04789b48f083f0f0ce20bf9917": {
      "model_module": "@jupyter-widgets/base",
      "model_module_version": "1.2.0",
      "model_name": "LayoutModel",
      "state": {
       "_model_module": "@jupyter-widgets/base",
       "_model_module_version": "1.2.0",
       "_model_name": "LayoutModel",
       "_view_count": null,
       "_view_module": "@jupyter-widgets/base",
       "_view_module_version": "1.2.0",
       "_view_name": "LayoutView",
       "align_content": null,
       "align_items": null,
       "align_self": null,
       "border": null,
       "bottom": null,
       "display": null,
       "flex": null,
       "flex_flow": null,
       "grid_area": null,
       "grid_auto_columns": null,
       "grid_auto_flow": null,
       "grid_auto_rows": null,
       "grid_column": null,
       "grid_gap": null,
       "grid_row": null,
       "grid_template_areas": null,
       "grid_template_columns": null,
       "grid_template_rows": null,
       "height": null,
       "justify_content": null,
       "justify_items": null,
       "left": null,
       "margin": null,
       "max_height": null,
       "max_width": null,
       "min_height": null,
       "min_width": null,
       "object_fit": null,
       "object_position": null,
       "order": null,
       "overflow": null,
       "overflow_x": null,
       "overflow_y": null,
       "padding": null,
       "right": null,
       "top": null,
       "visibility": null,
       "width": null
      }
     },
     "103929b3cf6c4f7a98f675c6fb2258f1": {
      "model_module": "@jupyter-widgets/controls",
      "model_module_version": "1.5.0",
      "model_name": "HBoxModel",
      "state": {
       "_dom_classes": [],
       "_model_module": "@jupyter-widgets/controls",
       "_model_module_version": "1.5.0",
       "_model_name": "HBoxModel",
       "_view_count": null,
       "_view_module": "@jupyter-widgets/controls",
       "_view_module_version": "1.5.0",
       "_view_name": "HBoxView",
       "box_style": "",
       "children": [
        "IPY_MODEL_b245d923adb84b4b972f8231aef9523a",
        "IPY_MODEL_c4a31fbd9f0e4d4d8157a4d5c4b5649d"
       ],
       "layout": "IPY_MODEL_6452da665e8e4aca9d2fbd663ba2ceb6"
      }
     },
     "20bcd6a746bc46c0918c6a92a62f27a2": {
      "model_module": "@jupyter-widgets/controls",
      "model_module_version": "1.5.0",
      "model_name": "DescriptionStyleModel",
      "state": {
       "_model_module": "@jupyter-widgets/controls",
       "_model_module_version": "1.5.0",
       "_model_name": "DescriptionStyleModel",
       "_view_count": null,
       "_view_module": "@jupyter-widgets/base",
       "_view_module_version": "1.2.0",
       "_view_name": "StyleView",
       "description_width": ""
      }
     },
     "20c815a11e6b4331a075315e08c947bd": {
      "model_module": "@jupyter-widgets/base",
      "model_module_version": "1.2.0",
      "model_name": "LayoutModel",
      "state": {
       "_model_module": "@jupyter-widgets/base",
       "_model_module_version": "1.2.0",
       "_model_name": "LayoutModel",
       "_view_count": null,
       "_view_module": "@jupyter-widgets/base",
       "_view_module_version": "1.2.0",
       "_view_name": "LayoutView",
       "align_content": null,
       "align_items": null,
       "align_self": null,
       "border": null,
       "bottom": null,
       "display": null,
       "flex": null,
       "flex_flow": null,
       "grid_area": null,
       "grid_auto_columns": null,
       "grid_auto_flow": null,
       "grid_auto_rows": null,
       "grid_column": null,
       "grid_gap": null,
       "grid_row": null,
       "grid_template_areas": null,
       "grid_template_columns": null,
       "grid_template_rows": null,
       "height": null,
       "justify_content": null,
       "justify_items": null,
       "left": null,
       "margin": null,
       "max_height": null,
       "max_width": null,
       "min_height": null,
       "min_width": null,
       "object_fit": null,
       "object_position": null,
       "order": null,
       "overflow": null,
       "overflow_x": null,
       "overflow_y": null,
       "padding": null,
       "right": null,
       "top": null,
       "visibility": null,
       "width": null
      }
     },
     "231495c8f24a4f9b9879b9c2263a5692": {
      "model_module": "@jupyter-widgets/controls",
      "model_module_version": "1.5.0",
      "model_name": "ProgressStyleModel",
      "state": {
       "_model_module": "@jupyter-widgets/controls",
       "_model_module_version": "1.5.0",
       "_model_name": "ProgressStyleModel",
       "_view_count": null,
       "_view_module": "@jupyter-widgets/base",
       "_view_module_version": "1.2.0",
       "_view_name": "StyleView",
       "bar_color": null,
       "description_width": "initial"
      }
     },
     "28354683ea8446e29d13a6f04648034a": {
      "model_module": "@jupyter-widgets/controls",
      "model_module_version": "1.5.0",
      "model_name": "HTMLModel",
      "state": {
       "_dom_classes": [],
       "_model_module": "@jupyter-widgets/controls",
       "_model_module_version": "1.5.0",
       "_model_name": "HTMLModel",
       "_view_count": null,
       "_view_module": "@jupyter-widgets/controls",
       "_view_module_version": "1.5.0",
       "_view_name": "HTMLView",
       "description": "",
       "description_tooltip": null,
       "layout": "IPY_MODEL_20c815a11e6b4331a075315e08c947bd",
       "placeholder": "​",
       "style": "IPY_MODEL_20bcd6a746bc46c0918c6a92a62f27a2",
       "value": " 176/? [02:12&lt;00:00,  1.33it/s]"
      }
     },
     "2e53c2f1947447c1a61fb19f3ecf6e73": {
      "model_module": "@jupyter-widgets/controls",
      "model_module_version": "1.5.0",
      "model_name": "DescriptionStyleModel",
      "state": {
       "_model_module": "@jupyter-widgets/controls",
       "_model_module_version": "1.5.0",
       "_model_name": "DescriptionStyleModel",
       "_view_count": null,
       "_view_module": "@jupyter-widgets/base",
       "_view_module_version": "1.2.0",
       "_view_name": "StyleView",
       "description_width": ""
      }
     },
     "6452da665e8e4aca9d2fbd663ba2ceb6": {
      "model_module": "@jupyter-widgets/base",
      "model_module_version": "1.2.0",
      "model_name": "LayoutModel",
      "state": {
       "_model_module": "@jupyter-widgets/base",
       "_model_module_version": "1.2.0",
       "_model_name": "LayoutModel",
       "_view_count": null,
       "_view_module": "@jupyter-widgets/base",
       "_view_module_version": "1.2.0",
       "_view_name": "LayoutView",
       "align_content": null,
       "align_items": null,
       "align_self": null,
       "border": null,
       "bottom": null,
       "display": null,
       "flex": null,
       "flex_flow": null,
       "grid_area": null,
       "grid_auto_columns": null,
       "grid_auto_flow": null,
       "grid_auto_rows": null,
       "grid_column": null,
       "grid_gap": null,
       "grid_row": null,
       "grid_template_areas": null,
       "grid_template_columns": null,
       "grid_template_rows": null,
       "height": null,
       "justify_content": null,
       "justify_items": null,
       "left": null,
       "margin": null,
       "max_height": null,
       "max_width": null,
       "min_height": null,
       "min_width": null,
       "object_fit": null,
       "object_position": null,
       "order": null,
       "overflow": null,
       "overflow_x": null,
       "overflow_y": null,
       "padding": null,
       "right": null,
       "top": null,
       "visibility": null,
       "width": null
      }
     },
     "738b379c91ca42c582a8454d2ff3a8a0": {
      "model_module": "@jupyter-widgets/base",
      "model_module_version": "1.2.0",
      "model_name": "LayoutModel",
      "state": {
       "_model_module": "@jupyter-widgets/base",
       "_model_module_version": "1.2.0",
       "_model_name": "LayoutModel",
       "_view_count": null,
       "_view_module": "@jupyter-widgets/base",
       "_view_module_version": "1.2.0",
       "_view_name": "LayoutView",
       "align_content": null,
       "align_items": null,
       "align_self": null,
       "border": null,
       "bottom": null,
       "display": null,
       "flex": null,
       "flex_flow": null,
       "grid_area": null,
       "grid_auto_columns": null,
       "grid_auto_flow": null,
       "grid_auto_rows": null,
       "grid_column": null,
       "grid_gap": null,
       "grid_row": null,
       "grid_template_areas": null,
       "grid_template_columns": null,
       "grid_template_rows": null,
       "height": null,
       "justify_content": null,
       "justify_items": null,
       "left": null,
       "margin": null,
       "max_height": null,
       "max_width": null,
       "min_height": null,
       "min_width": null,
       "object_fit": null,
       "object_position": null,
       "order": null,
       "overflow": null,
       "overflow_x": null,
       "overflow_y": null,
       "padding": null,
       "right": null,
       "top": null,
       "visibility": null,
       "width": null
      }
     },
     "977046f886244ad68638714e398518eb": {
      "model_module": "@jupyter-widgets/base",
      "model_module_version": "1.2.0",
      "model_name": "LayoutModel",
      "state": {
       "_model_module": "@jupyter-widgets/base",
       "_model_module_version": "1.2.0",
       "_model_name": "LayoutModel",
       "_view_count": null,
       "_view_module": "@jupyter-widgets/base",
       "_view_module_version": "1.2.0",
       "_view_name": "LayoutView",
       "align_content": null,
       "align_items": null,
       "align_self": null,
       "border": null,
       "bottom": null,
       "display": null,
       "flex": null,
       "flex_flow": null,
       "grid_area": null,
       "grid_auto_columns": null,
       "grid_auto_flow": null,
       "grid_auto_rows": null,
       "grid_column": null,
       "grid_gap": null,
       "grid_row": null,
       "grid_template_areas": null,
       "grid_template_columns": null,
       "grid_template_rows": null,
       "height": null,
       "justify_content": null,
       "justify_items": null,
       "left": null,
       "margin": null,
       "max_height": null,
       "max_width": null,
       "min_height": null,
       "min_width": null,
       "object_fit": null,
       "object_position": null,
       "order": null,
       "overflow": null,
       "overflow_x": null,
       "overflow_y": null,
       "padding": null,
       "right": null,
       "top": null,
       "visibility": null,
       "width": null
      }
     },
     "b245d923adb84b4b972f8231aef9523a": {
      "model_module": "@jupyter-widgets/controls",
      "model_module_version": "1.5.0",
      "model_name": "FloatProgressModel",
      "state": {
       "_dom_classes": [],
       "_model_module": "@jupyter-widgets/controls",
       "_model_module_version": "1.5.0",
       "_model_name": "FloatProgressModel",
       "_view_count": null,
       "_view_module": "@jupyter-widgets/controls",
       "_view_module_version": "1.5.0",
       "_view_name": "ProgressView",
       "bar_style": "success",
       "description": "100%",
       "description_tooltip": null,
       "layout": "IPY_MODEL_738b379c91ca42c582a8454d2ff3a8a0",
       "max": 176.0,
       "min": 0.0,
       "orientation": "horizontal",
       "style": "IPY_MODEL_b48631b9e4f649cdb8af81540eef8fd8",
       "value": 176.0
      }
     },
     "b48631b9e4f649cdb8af81540eef8fd8": {
      "model_module": "@jupyter-widgets/controls",
      "model_module_version": "1.5.0",
      "model_name": "ProgressStyleModel",
      "state": {
       "_model_module": "@jupyter-widgets/controls",
       "_model_module_version": "1.5.0",
       "_model_name": "ProgressStyleModel",
       "_view_count": null,
       "_view_module": "@jupyter-widgets/base",
       "_view_module_version": "1.2.0",
       "_view_name": "StyleView",
       "bar_color": null,
       "description_width": "initial"
      }
     },
     "c4a31fbd9f0e4d4d8157a4d5c4b5649d": {
      "model_module": "@jupyter-widgets/controls",
      "model_module_version": "1.5.0",
      "model_name": "HTMLModel",
      "state": {
       "_dom_classes": [],
       "_model_module": "@jupyter-widgets/controls",
       "_model_module_version": "1.5.0",
       "_model_name": "HTMLModel",
       "_view_count": null,
       "_view_module": "@jupyter-widgets/controls",
       "_view_module_version": "1.5.0",
       "_view_name": "HTMLView",
       "description": "",
       "description_tooltip": null,
       "layout": "IPY_MODEL_977046f886244ad68638714e398518eb",
       "placeholder": "​",
       "style": "IPY_MODEL_2e53c2f1947447c1a61fb19f3ecf6e73",
       "value": " 176/176 [02:11&lt;00:00,  1.34it/s]"
      }
     },
     "f1693c7fd1d346f5bda3fd7d485dc46d": {
      "model_module": "@jupyter-widgets/controls",
      "model_module_version": "1.5.0",
      "model_name": "FloatProgressModel",
      "state": {
       "_dom_classes": [],
       "_model_module": "@jupyter-widgets/controls",
       "_model_module_version": "1.5.0",
       "_model_name": "FloatProgressModel",
       "_view_count": null,
       "_view_module": "@jupyter-widgets/controls",
       "_view_module_version": "1.5.0",
       "_view_name": "ProgressView",
       "bar_style": "success",
       "description": "",
       "description_tooltip": null,
       "layout": "IPY_MODEL_0ed12f04789b48f083f0f0ce20bf9917",
       "max": 1.0,
       "min": 0.0,
       "orientation": "horizontal",
       "style": "IPY_MODEL_231495c8f24a4f9b9879b9c2263a5692",
       "value": 1.0
      }
     },
     "f99f88f5a46e4b15af61a00761db9795": {
      "model_module": "@jupyter-widgets/controls",
      "model_module_version": "1.5.0",
      "model_name": "HBoxModel",
      "state": {
       "_dom_classes": [],
       "_model_module": "@jupyter-widgets/controls",
       "_model_module_version": "1.5.0",
       "_model_name": "HBoxModel",
       "_view_count": null,
       "_view_module": "@jupyter-widgets/controls",
       "_view_module_version": "1.5.0",
       "_view_name": "HBoxView",
       "box_style": "",
       "children": [
        "IPY_MODEL_f1693c7fd1d346f5bda3fd7d485dc46d",
        "IPY_MODEL_28354683ea8446e29d13a6f04648034a"
       ],
       "layout": "IPY_MODEL_fd116eca86a14734b59ef138d4a03a83"
      }
     },
     "fd116eca86a14734b59ef138d4a03a83": {
      "model_module": "@jupyter-widgets/base",
      "model_module_version": "1.2.0",
      "model_name": "LayoutModel",
      "state": {
       "_model_module": "@jupyter-widgets/base",
       "_model_module_version": "1.2.0",
       "_model_name": "LayoutModel",
       "_view_count": null,
       "_view_module": "@jupyter-widgets/base",
       "_view_module_version": "1.2.0",
       "_view_name": "LayoutView",
       "align_content": null,
       "align_items": null,
       "align_self": null,
       "border": null,
       "bottom": null,
       "display": null,
       "flex": null,
       "flex_flow": null,
       "grid_area": null,
       "grid_auto_columns": null,
       "grid_auto_flow": null,
       "grid_auto_rows": null,
       "grid_column": null,
       "grid_gap": null,
       "grid_row": null,
       "grid_template_areas": null,
       "grid_template_columns": null,
       "grid_template_rows": null,
       "height": null,
       "justify_content": null,
       "justify_items": null,
       "left": null,
       "margin": null,
       "max_height": null,
       "max_width": null,
       "min_height": null,
       "min_width": null,
       "object_fit": null,
       "object_position": null,
       "order": null,
       "overflow": null,
       "overflow_x": null,
       "overflow_y": null,
       "padding": null,
       "right": null,
       "top": null,
       "visibility": null,
       "width": null
      }
     }
    },
    "version_major": 2,
    "version_minor": 0
   }
  }
 },
 "nbformat": 4,
 "nbformat_minor": 4
}
